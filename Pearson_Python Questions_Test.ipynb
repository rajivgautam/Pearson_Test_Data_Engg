{
 "cells": [
  {
   "cell_type": "markdown",
   "metadata": {},
   "source": [
    "# Question 1\n",
    "\n",
    "Write a function printFib(n) that prints the Fibonacci series until \n",
    "a value would exceed the input n.\n",
    "For example  printFib(30) would print the numbers  <br>\n",
    "0, 1, 1, 2, 3, 5, 8, 13, 21  <br>\n",
    "\n",
    "Remember : The Fibonacci Sequence is the series of numbers\n",
    "where the first two numbers in the sequence are 0, 1, then after \n",
    "that to calculate the next number sum the previous two numbers in the\n",
    "sequence. <br>\n",
    "\n",
    "\"\"\"<br>\n",
    "def printFib(n):<br>\n",
    "    print(n) <br>\n",
    "\"\"\""
   ]
  },
  {
   "cell_type": "code",
   "execution_count": 1,
   "metadata": {},
   "outputs": [],
   "source": [
    "def printFib(n):\n",
    "    \n",
    "    nterms = n\n",
    "    lst =[]      \n",
    "    \n",
    "    #### inner function\n",
    "    def recur_fibo(n):\n",
    "        if n <= 1:\n",
    "            return n\n",
    "        else:\n",
    "            return(recur_fibo(n-1) + recur_fibo(n-2))\n",
    "                \n",
    "    \n",
    "    #### check if the number n valid\n",
    "    if nterms <= 0:\n",
    "        print(\"Plese enter a positive integer\")\n",
    "    else:        \n",
    "        for i in range(nterms):\n",
    "            rec_val = recur_fibo(i)            \n",
    "            lst.append(rec_val)            \n",
    "            if nterms < lst[i]:\n",
    "                lst.pop()\n",
    "                break\n",
    "         \n",
    "    return lst"
   ]
  },
  {
   "cell_type": "code",
   "execution_count": 2,
   "metadata": {},
   "outputs": [
    {
     "data": {
      "text/plain": [
       "[0, 1, 1, 2, 3, 5, 8, 13, 21]"
      ]
     },
     "execution_count": 2,
     "metadata": {},
     "output_type": "execute_result"
    }
   ],
   "source": [
    "printFib(30)"
   ]
  },
  {
   "cell_type": "markdown",
   "metadata": {},
   "source": [
    "# Question 2. \n",
    "Complete the function isPalindrome below so that  it returns \n",
    "True if the given string is a palindrome.  A palindrome is a string that is \n",
    "the same forwards and backwards. For example \"bob\", \"9119\", and \"racecar\" are\n",
    "palindromes but \"bar\" and \"palindrome\" are not.<br>\n",
    "\"\"\"<br>\n",
    "def isPalindrome( s ):<br>\n",
    "    return False<br>\n",
    "\"\"\"<br>"
   ]
  },
  {
   "cell_type": "code",
   "execution_count": 3,
   "metadata": {},
   "outputs": [],
   "source": [
    "def isPalindrome( s ):\n",
    "    if s == s[::-1]:\n",
    "        return True\n",
    "    else:\n",
    "        return False"
   ]
  },
  {
   "cell_type": "code",
   "execution_count": 4,
   "metadata": {},
   "outputs": [
    {
     "data": {
      "text/plain": [
       "True"
      ]
     },
     "execution_count": 4,
     "metadata": {},
     "output_type": "execute_result"
    }
   ],
   "source": [
    "isPalindrome(\"bob\")"
   ]
  },
  {
   "cell_type": "markdown",
   "metadata": {},
   "source": [
    "# Question 3.\n",
    "\n",
    "Imagine a never ending number is created by concatenating numbers to it in order. \n",
    "The number starts 123456789101112...  You can see the 11th digit is 0 and the \n",
    "15th digit will be 2. <br>\n",
    "\n",
    "Write a function that can compute the nth digit of this never ending number.\n",
    "(Bonus if you can compute the nth digit without using a String) <br>\n",
    "\"\"\"<br>\n",
    "def getNthDigit(n):<br>\n",
    "    return 0<br>\n",
    "\"\"\"<br>"
   ]
  },
  {
   "cell_type": "code",
   "execution_count": 5,
   "metadata": {},
   "outputs": [],
   "source": [
    "def getNthDigit(n):  \n",
    "    \n",
    "    s = \"\"        \n",
    "    c = 1    \n",
    "  \n",
    "    # add integers in string\n",
    "    while(True) :          \n",
    "        if (c < 10):\n",
    "            s += chr(48 + c)  \n",
    "        \n",
    "        else:\n",
    "            s1 = \"\"\n",
    "            dup = c\n",
    "  \n",
    "            # add the number in string\n",
    "            while (dup > 0):\n",
    "                s1 += chr((dup % 10) + 48)\n",
    "                dup //= 10\n",
    "  \n",
    "            # reverse the string\n",
    "            s1 = \"\".join(reversed(s1)) \n",
    "  \n",
    "            # attach the number\n",
    "            s += s1\n",
    "        c += 1\n",
    "  \n",
    "        # if the length exceeds N\n",
    "        if (len(s) >= n):\n",
    "            return int(s[n - 1])\n"
   ]
  },
  {
   "cell_type": "code",
   "execution_count": 6,
   "metadata": {},
   "outputs": [
    {
     "data": {
      "text/plain": [
       "2"
      ]
     },
     "execution_count": 6,
     "metadata": {},
     "output_type": "execute_result"
    }
   ],
   "source": [
    "getNthDigit(15)"
   ]
  },
  {
   "cell_type": "markdown",
   "metadata": {},
   "source": [
    "# Question 4.\n",
    "Imagine you are running a Ponzi scheme. You need to give an explanation, albeit a \n",
    "bogus one, to your investors how you made a fortune in the stock market. \n",
    "You tell your investors you make money by shorting stock. That is you\n",
    "make the most money when you sell a stock at a high price and buy it back at\n",
    "a low price. <br>\n",
    " \n",
    "Given a list of the daily prices of a stock, calculate the \n",
    "maximum profit you can make and which days you would sell and buy the stock. \n",
    "For example given a list of prices [4,6,3,5,1,7] you can make a profit of\n",
    "5 if you sell on day 1 and buy on day 4. Day 1 price = 6, Day 4 price = 1,\n",
    "profit = 6 - 1 = 5.  Note: You have to sell before you buy. So selling on day\n",
    "5 and buying on day 4 is impossible. \n",
    "Return a tuple in the order of (profit, sell day, buy day). For the above example\n",
    "the correct return value would be (5, 1, 4). <br> \n",
    "\"\"\"<br>\n",
    "def calcProfit( prices ):<br>\n",
    "    return (0, 0, 0)<br>\n",
    "\"\"\""
   ]
  },
  {
   "cell_type": "code",
   "execution_count": 7,
   "metadata": {},
   "outputs": [],
   "source": [
    "def calcProfit(prices):\n",
    "    \n",
    "    prices_rev = prices[::-1]  #Given-You have to sell before you buy.\n",
    "     \n",
    "    n = len(prices)\n",
    "    cost = 0\n",
    "    maxcost = 0\n",
    "    buy_day = 0\n",
    "    sell_day = 0 \n",
    "    min_price = prices_rev[0]\n",
    "    \n",
    "    if (n == 0):\n",
    "        return 0    \n",
    " \n",
    "    for i in range(n):\n",
    "         \n",
    "        if min_price > min(min_price, prices_rev[i]):\n",
    "            min_price = min(min_price, prices_rev[i])\n",
    "            buy_day = prices.index(prices_rev[i])\n",
    "                     \n",
    "        cost = prices_rev[i] - min_price\n",
    "        \n",
    "        if maxcost < max(maxcost, cost):            \n",
    "            maxcost = max(maxcost, cost)\n",
    "            sell_day = prices.index(prices_rev[i])\n",
    "                   \n",
    "    return (maxcost,sell_day,buy_day)"
   ]
  },
  {
   "cell_type": "code",
   "execution_count": 8,
   "metadata": {},
   "outputs": [
    {
     "data": {
      "text/plain": [
       "(5, 1, 4)"
      ]
     },
     "execution_count": 8,
     "metadata": {},
     "output_type": "execute_result"
    }
   ],
   "source": [
    "prices = [4,6,3,5,1,7]\n",
    "calcProfit(prices)"
   ]
  }
 ],
 "metadata": {
  "kernelspec": {
   "display_name": "Python 3",
   "language": "python",
   "name": "python3"
  },
  "language_info": {
   "codemirror_mode": {
    "name": "ipython",
    "version": 3
   },
   "file_extension": ".py",
   "mimetype": "text/x-python",
   "name": "python",
   "nbconvert_exporter": "python",
   "pygments_lexer": "ipython3",
   "version": "3.8.5"
  }
 },
 "nbformat": 4,
 "nbformat_minor": 4
}
